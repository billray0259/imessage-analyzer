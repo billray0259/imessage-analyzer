{
 "cells": [
  {
   "cell_type": "code",
   "execution_count": null,
   "metadata": {},
   "outputs": [],
   "source": [
    "from lib import fetch_data, clean_data"
   ]
  },
  {
   "cell_type": "code",
   "execution_count": null,
   "metadata": {},
   "outputs": [],
   "source": [
    "raw_data = fetch_data()\n",
    "raw_data"
   ]
  },
  {
   "cell_type": "code",
   "execution_count": null,
   "metadata": {},
   "outputs": [],
   "source": [
    "data = clean_data(raw_data)\n",
    "data"
   ]
  },
  {
   "cell_type": "code",
   "execution_count": null,
   "metadata": {},
   "outputs": [],
   "source": [
    "# find the messages from the largest chat\n",
    "most_common_chat_guid = data['chat.guid'].value_counts().index[0]\n",
    "messages = data[data['chat.guid'] == most_common_chat_guid]\n",
    "messages"
   ]
  },
  {
   "cell_type": "code",
   "execution_count": null,
   "metadata": {},
   "outputs": [],
   "source": [
    "# information about the table... potentially useful to give to ChatGPT\n",
    "import io\n",
    "\n",
    "buf = io.StringIO()\n",
    "messages.info(buf=buf)\n",
    "table_info = buf.getvalue()\n",
    "print(table_info)"
   ]
  },
  {
   "cell_type": "code",
   "execution_count": null,
   "metadata": {},
   "outputs": [],
   "source": [
    "# example data to give to ChatGPT\n",
    "example_rows = messages.head(3).to_csv(index=False)\n",
    "print(example_rows)"
   ]
  },
  {
   "cell_type": "code",
   "execution_count": null,
   "metadata": {},
   "outputs": [],
   "source": [
    "def make_prompt(question):\n",
    "    return (\n",
    "        f'Consider the following DataFrame `messages`:\\n'\n",
    "        f'{table_info}\\n'\n",
    "        f'Example rows:\\n'\n",
    "        f'{example_rows}\\n'\n",
    "        f'Write some python code to answer the following question:\\n'\n",
    "        f'{question}\\n'\n",
    "    )\n",
    "\n",
    "\n",
    "prompt = make_prompt('How many messages are there?')\n",
    "print(prompt)"
   ]
  }
 ],
 "metadata": {
  "kernelspec": {
   "display_name": "venv",
   "language": "python",
   "name": "python3"
  },
  "language_info": {
   "codemirror_mode": {
    "name": "ipython",
    "version": 3
   },
   "file_extension": ".py",
   "mimetype": "text/x-python",
   "name": "python",
   "nbconvert_exporter": "python",
   "pygments_lexer": "ipython3",
   "version": "3.10.5"
  },
  "orig_nbformat": 4
 },
 "nbformat": 4,
 "nbformat_minor": 2
}
